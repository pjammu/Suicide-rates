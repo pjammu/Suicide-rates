{
 "cells": [
  {
   "cell_type": "code",
   "execution_count": 174,
   "metadata": {},
   "outputs": [],
   "source": [
    "import pandas as pd"
   ]
  },
  {
   "cell_type": "code",
   "execution_count": 175,
   "metadata": {},
   "outputs": [],
   "source": [
    "df = pd.read_csv(r'C:\\Users\\User\\Desktop\\Stats Course\\Groupwork\\suicide-rates-overview-1985-to-2016\\master.csv')"
   ]
  },
  {
   "cell_type": "code",
   "execution_count": 176,
   "metadata": {},
   "outputs": [
    {
     "name": "stdout",
     "output_type": "stream",
     "text": [
      "          country  year     sex          age  suicides_no  population  \\\n",
      "0         Albania  1987    male  15-24 years           21      312900   \n",
      "1         Albania  1987    male  35-54 years           16      308000   \n",
      "2         Albania  1987  female  15-24 years           14      289700   \n",
      "3         Albania  1987    male    75+ years            1       21800   \n",
      "4         Albania  1987    male  25-34 years            9      274300   \n",
      "...           ...   ...     ...          ...          ...         ...   \n",
      "27815  Uzbekistan  2014  female  35-54 years          107     3620833   \n",
      "27816  Uzbekistan  2014  female    75+ years            9      348465   \n",
      "27817  Uzbekistan  2014    male   5-14 years           60     2762158   \n",
      "27818  Uzbekistan  2014  female   5-14 years           44     2631600   \n",
      "27819  Uzbekistan  2014  female  55-74 years           21     1438935   \n",
      "\n",
      "       suicides/100k pop    country-year  HDI for year  gdp_for_year ($)   \\\n",
      "0                   6.71     Albania1987           NaN      2,156,624,900   \n",
      "1                   5.19     Albania1987           NaN      2,156,624,900   \n",
      "2                   4.83     Albania1987           NaN      2,156,624,900   \n",
      "3                   4.59     Albania1987           NaN      2,156,624,900   \n",
      "4                   3.28     Albania1987           NaN      2,156,624,900   \n",
      "...                  ...             ...           ...                ...   \n",
      "27815               2.96  Uzbekistan2014         0.675     63,067,077,179   \n",
      "27816               2.58  Uzbekistan2014         0.675     63,067,077,179   \n",
      "27817               2.17  Uzbekistan2014         0.675     63,067,077,179   \n",
      "27818               1.67  Uzbekistan2014         0.675     63,067,077,179   \n",
      "27819               1.46  Uzbekistan2014         0.675     63,067,077,179   \n",
      "\n",
      "       gdp_per_capita ($)       generation  \n",
      "0                     796     Generation X  \n",
      "1                     796           Silent  \n",
      "2                     796     Generation X  \n",
      "3                     796  G.I. Generation  \n",
      "4                     796          Boomers  \n",
      "...                   ...              ...  \n",
      "27815                2309     Generation X  \n",
      "27816                2309           Silent  \n",
      "27817                2309     Generation Z  \n",
      "27818                2309     Generation Z  \n",
      "27819                2309          Boomers  \n",
      "\n",
      "[27820 rows x 12 columns]\n"
     ]
    }
   ],
   "source": [
    "print (df)"
   ]
  },
  {
   "cell_type": "code",
   "execution_count": 177,
   "metadata": {},
   "outputs": [
    {
     "data": {
      "text/html": [
       "<div>\n",
       "<style scoped>\n",
       "    .dataframe tbody tr th:only-of-type {\n",
       "        vertical-align: middle;\n",
       "    }\n",
       "\n",
       "    .dataframe tbody tr th {\n",
       "        vertical-align: top;\n",
       "    }\n",
       "\n",
       "    .dataframe thead th {\n",
       "        text-align: right;\n",
       "    }\n",
       "</style>\n",
       "<table border=\"1\" class=\"dataframe\">\n",
       "  <thead>\n",
       "    <tr style=\"text-align: right;\">\n",
       "      <th></th>\n",
       "      <th>country</th>\n",
       "      <th>year</th>\n",
       "      <th>sex</th>\n",
       "      <th>age</th>\n",
       "      <th>suicides_no</th>\n",
       "      <th>population</th>\n",
       "      <th>suicides/100k pop</th>\n",
       "      <th>country-year</th>\n",
       "      <th>HDI for year</th>\n",
       "      <th>gdp_for_year ($)</th>\n",
       "      <th>gdp_per_capita ($)</th>\n",
       "      <th>generation</th>\n",
       "    </tr>\n",
       "  </thead>\n",
       "  <tbody>\n",
       "    <tr>\n",
       "      <td>0</td>\n",
       "      <td>Argentina</td>\n",
       "      <td>1985</td>\n",
       "      <td>male</td>\n",
       "      <td>75+ years</td>\n",
       "      <td>202</td>\n",
       "      <td>363000</td>\n",
       "      <td>55.65</td>\n",
       "      <td>Argentina1985</td>\n",
       "      <td>0.694</td>\n",
       "      <td>88,416,668,900</td>\n",
       "      <td>3264</td>\n",
       "      <td>G.I. Generation</td>\n",
       "    </tr>\n",
       "    <tr>\n",
       "      <td>1</td>\n",
       "      <td>Argentina</td>\n",
       "      <td>1985</td>\n",
       "      <td>male</td>\n",
       "      <td>55-74 years</td>\n",
       "      <td>485</td>\n",
       "      <td>1997000</td>\n",
       "      <td>24.29</td>\n",
       "      <td>Argentina1985</td>\n",
       "      <td>0.694</td>\n",
       "      <td>88,416,668,900</td>\n",
       "      <td>3264</td>\n",
       "      <td>G.I. Generation</td>\n",
       "    </tr>\n",
       "    <tr>\n",
       "      <td>2</td>\n",
       "      <td>Argentina</td>\n",
       "      <td>1985</td>\n",
       "      <td>male</td>\n",
       "      <td>35-54 years</td>\n",
       "      <td>414</td>\n",
       "      <td>3346300</td>\n",
       "      <td>12.37</td>\n",
       "      <td>Argentina1985</td>\n",
       "      <td>0.694</td>\n",
       "      <td>88,416,668,900</td>\n",
       "      <td>3264</td>\n",
       "      <td>Silent</td>\n",
       "    </tr>\n",
       "    <tr>\n",
       "      <td>3</td>\n",
       "      <td>Argentina</td>\n",
       "      <td>1985</td>\n",
       "      <td>female</td>\n",
       "      <td>55-74 years</td>\n",
       "      <td>210</td>\n",
       "      <td>2304000</td>\n",
       "      <td>9.11</td>\n",
       "      <td>Argentina1985</td>\n",
       "      <td>0.694</td>\n",
       "      <td>88,416,668,900</td>\n",
       "      <td>3264</td>\n",
       "      <td>G.I. Generation</td>\n",
       "    </tr>\n",
       "    <tr>\n",
       "      <td>4</td>\n",
       "      <td>Argentina</td>\n",
       "      <td>1985</td>\n",
       "      <td>male</td>\n",
       "      <td>25-34 years</td>\n",
       "      <td>177</td>\n",
       "      <td>2234200</td>\n",
       "      <td>7.92</td>\n",
       "      <td>Argentina1985</td>\n",
       "      <td>0.694</td>\n",
       "      <td>88,416,668,900</td>\n",
       "      <td>3264</td>\n",
       "      <td>Boomers</td>\n",
       "    </tr>\n",
       "  </tbody>\n",
       "</table>\n",
       "</div>"
      ],
      "text/plain": [
       "     country  year     sex          age  suicides_no  population  \\\n",
       "0  Argentina  1985    male    75+ years          202      363000   \n",
       "1  Argentina  1985    male  55-74 years          485     1997000   \n",
       "2  Argentina  1985    male  35-54 years          414     3346300   \n",
       "3  Argentina  1985  female  55-74 years          210     2304000   \n",
       "4  Argentina  1985    male  25-34 years          177     2234200   \n",
       "\n",
       "   suicides/100k pop   country-year  HDI for year  gdp_for_year ($)   \\\n",
       "0              55.65  Argentina1985         0.694     88,416,668,900   \n",
       "1              24.29  Argentina1985         0.694     88,416,668,900   \n",
       "2              12.37  Argentina1985         0.694     88,416,668,900   \n",
       "3               9.11  Argentina1985         0.694     88,416,668,900   \n",
       "4               7.92  Argentina1985         0.694     88,416,668,900   \n",
       "\n",
       "   gdp_per_capita ($)       generation  \n",
       "0                3264  G.I. Generation  \n",
       "1                3264  G.I. Generation  \n",
       "2                3264           Silent  \n",
       "3                3264  G.I. Generation  \n",
       "4                3264          Boomers  "
      ]
     },
     "execution_count": 177,
     "metadata": {},
     "output_type": "execute_result"
    }
   ],
   "source": [
    "import numpy as np\n",
    "import pandas as pd\n",
    "\n",
    "df = pd.read_csv(r'C:\\Users\\User\\Desktop\\Stats Course\\Groupwork\\suicide-rates-overview-1985-to-2016\\Connies Countries.csv')\n",
    "df.head()"
   ]
  },
  {
   "cell_type": "code",
   "execution_count": 181,
   "metadata": {},
   "outputs": [
    {
     "data": {
      "text/plain": [
       "<matplotlib.axes._subplots.AxesSubplot at 0x184a9d9f908>"
      ]
     },
     "execution_count": 181,
     "metadata": {},
     "output_type": "execute_result"
    },
    {
     "data": {
      "image/png": "[encoded data removed]",
      "text/plain": [
       "<Figure size 432x288 with 1 Axes>"
      ]
     },
     "metadata": {
      "needs_background": "light"
     },
     "output_type": "display_data"
    }
   ],
   "source": [
    "import matplotlib.pyplot as plt\n",
    "df['sex'].value_counts().plot(kind='bar')"
   ]
  },
  {
   "cell_type": "code",
   "execution_count": 191,
   "metadata": {},
   "outputs": [
    {
     "data": {
      "text/plain": [
       "<matplotlib.axes._subplots.AxesSubplot at 0x184a9889a88>"
      ]
     },
     "execution_count": 191,
     "metadata": {},
     "output_type": "execute_result"
    },
    {
     "data": {
      "image/png": "[encoded data removed]",
      "text/plain": [
       "<Figure size 432x288 with 1 Axes>"
      ]
     },
     "metadata": {
      "needs_background": "light"
     },
     "output_type": "display_data"
    }
   ],
   "source": [
    "Countries_pivot = df.pivot_table(index=\"country\",values=\"suicides_no\")\n",
    "Countries_pivot.plot.bar()"
   ]
  },
  {
   "cell_type": "code",
   "execution_count": 184,
   "metadata": {},
   "outputs": [
    {
     "data": {
      "text/html": [
       "<div>\n",
       "<style scoped>\n",
       "    .dataframe tbody tr th:only-of-type {\n",
       "        vertical-align: middle;\n",
       "    }\n",
       "\n",
       "    .dataframe tbody tr th {\n",
       "        vertical-align: top;\n",
       "    }\n",
       "\n",
       "    .dataframe thead th {\n",
       "        text-align: right;\n",
       "    }\n",
       "</style>\n",
       "<table border=\"1\" class=\"dataframe\">\n",
       "  <thead>\n",
       "    <tr style=\"text-align: right;\">\n",
       "      <th></th>\n",
       "      <th></th>\n",
       "      <th>population</th>\n",
       "      <th>suicides_no</th>\n",
       "    </tr>\n",
       "    <tr>\n",
       "      <th>country</th>\n",
       "      <th>year</th>\n",
       "      <th></th>\n",
       "      <th></th>\n",
       "    </tr>\n",
       "  </thead>\n",
       "  <tbody>\n",
       "    <tr>\n",
       "      <td rowspan=\"5\" valign=\"top\">Argentina</td>\n",
       "      <td>1985</td>\n",
       "      <td>27090800</td>\n",
       "      <td>1988</td>\n",
       "    </tr>\n",
       "    <tr>\n",
       "      <td>1986</td>\n",
       "      <td>27244400</td>\n",
       "      <td>2284</td>\n",
       "    </tr>\n",
       "    <tr>\n",
       "      <td>1987</td>\n",
       "      <td>27599400</td>\n",
       "      <td>2286</td>\n",
       "    </tr>\n",
       "    <tr>\n",
       "      <td>1988</td>\n",
       "      <td>28308000</td>\n",
       "      <td>2354</td>\n",
       "    </tr>\n",
       "    <tr>\n",
       "      <td>1989</td>\n",
       "      <td>28702000</td>\n",
       "      <td>2247</td>\n",
       "    </tr>\n",
       "    <tr>\n",
       "      <td>...</td>\n",
       "      <td>...</td>\n",
       "      <td>...</td>\n",
       "      <td>...</td>\n",
       "    </tr>\n",
       "    <tr>\n",
       "      <td rowspan=\"5\" valign=\"top\">Denmark</td>\n",
       "      <td>2011</td>\n",
       "      <td>5244150</td>\n",
       "      <td>589</td>\n",
       "    </tr>\n",
       "    <tr>\n",
       "      <td>2012</td>\n",
       "      <td>5270539</td>\n",
       "      <td>661</td>\n",
       "    </tr>\n",
       "    <tr>\n",
       "      <td>2013</td>\n",
       "      <td>5299698</td>\n",
       "      <td>610</td>\n",
       "    </tr>\n",
       "    <tr>\n",
       "      <td>2014</td>\n",
       "      <td>5339166</td>\n",
       "      <td>629</td>\n",
       "    </tr>\n",
       "    <tr>\n",
       "      <td>2015</td>\n",
       "      <td>5383060</td>\n",
       "      <td>564</td>\n",
       "    </tr>\n",
       "  </tbody>\n",
       "</table>\n",
       "<p>340 rows × 2 columns</p>\n",
       "</div>"
      ],
      "text/plain": [
       "                population  suicides_no\n",
       "country   year                         \n",
       "Argentina 1985    27090800         1988\n",
       "          1986    27244400         2284\n",
       "          1987    27599400         2286\n",
       "          1988    28308000         2354\n",
       "          1989    28702000         2247\n",
       "...                    ...          ...\n",
       "Denmark   2011     5244150          589\n",
       "          2012     5270539          661\n",
       "          2013     5299698          610\n",
       "          2014     5339166          629\n",
       "          2015     5383060          564\n",
       "\n",
       "[340 rows x 2 columns]"
      ]
     },
     "execution_count": 184,
     "metadata": {},
     "output_type": "execute_result"
    }
   ],
   "source": [
    "import numpy as np\n",
    "import pandas as pd\n",
    "\n",
    "import matplotlib.pyplot as plt\n",
    "\n",
    "from pandas import DataFrame\n",
    "\n",
    "from pylab import *\n",
    "\n",
    "from matplotlib.pyplot import figure\n",
    "\n",
    "data_suicide =  pd.read_csv(r'C:\\Users\\User\\Desktop\\Stats Course\\Groupwork\\suicide-rates-overview-1985-to-2016\\Connies Countries.csv')\n",
    "\n",
    "pivot_suicide=data_suicide.pivot_table(index=['country','year'],values=['suicides_no','population'], aggfunc={'suicides_no':sum,'population':sum})\n",
    "\n",
    "pivot_suicide"
   ]
  },
  {
   "cell_type": "code",
   "execution_count": null,
   "metadata": {},
   "outputs": [],
   "source": []
  },
  {
   "cell_type": "code",
   "execution_count": 186,
   "metadata": {},
   "outputs": [
    {
     "data": {
      "text/plain": [
       "<matplotlib.axes._subplots.AxesSubplot at 0x184a5668b88>"
      ]
     },
     "execution_count": 186,
     "metadata": {},
     "output_type": "execute_result"
    },
    {
     "data": {
      "image/png": "[encoded data removed]",
      "text/plain": [
       "<Figure size 432x288 with 1 Axes>"
      ]
     },
     "metadata": {
      "needs_background": "light"
     },
     "output_type": "display_data"
    }
   ],
   "source": [
    "df['sex'].value_counts().plot(kind='bar')"
   ]
  },
  {
   "cell_type": "code",
   "execution_count": 187,
   "metadata": {},
   "outputs": [
    {
     "data": {
      "text/html": [
       "<div>\n",
       "<style scoped>\n",
       "    .dataframe tbody tr th:only-of-type {\n",
       "        vertical-align: middle;\n",
       "    }\n",
       "\n",
       "    .dataframe tbody tr th {\n",
       "        vertical-align: top;\n",
       "    }\n",
       "\n",
       "    .dataframe thead th {\n",
       "        text-align: right;\n",
       "    }\n",
       "</style>\n",
       "<table border=\"1\" class=\"dataframe\">\n",
       "  <thead>\n",
       "    <tr style=\"text-align: right;\">\n",
       "      <th></th>\n",
       "      <th></th>\n",
       "      <th>population</th>\n",
       "      <th>suicides_no</th>\n",
       "    </tr>\n",
       "    <tr>\n",
       "      <th>country</th>\n",
       "      <th>sex</th>\n",
       "      <th></th>\n",
       "      <th></th>\n",
       "    </tr>\n",
       "  </thead>\n",
       "  <tbody>\n",
       "    <tr>\n",
       "      <td rowspan=\"2\" valign=\"top\">Argentina</td>\n",
       "      <td>female</td>\n",
       "      <td>529728151</td>\n",
       "      <td>18326</td>\n",
       "    </tr>\n",
       "    <tr>\n",
       "      <td>male</td>\n",
       "      <td>506257280</td>\n",
       "      <td>63893</td>\n",
       "    </tr>\n",
       "    <tr>\n",
       "      <td rowspan=\"2\" valign=\"top\">Australia</td>\n",
       "      <td>female</td>\n",
       "      <td>273093551</td>\n",
       "      <td>15326</td>\n",
       "    </tr>\n",
       "    <tr>\n",
       "      <td>male</td>\n",
       "      <td>269284235</td>\n",
       "      <td>54785</td>\n",
       "    </tr>\n",
       "    <tr>\n",
       "      <td>Austria</td>\n",
       "      <td>female</td>\n",
       "      <td>126313508</td>\n",
       "      <td>13195</td>\n",
       "    </tr>\n",
       "    <tr>\n",
       "      <td>...</td>\n",
       "      <td>...</td>\n",
       "      <td>...</td>\n",
       "      <td>...</td>\n",
       "    </tr>\n",
       "    <tr>\n",
       "      <td>Cuba</td>\n",
       "      <td>male</td>\n",
       "      <td>126068428</td>\n",
       "      <td>29743</td>\n",
       "    </tr>\n",
       "    <tr>\n",
       "      <td rowspan=\"2\" valign=\"top\">Czech Republic</td>\n",
       "      <td>female</td>\n",
       "      <td>135580098</td>\n",
       "      <td>9247</td>\n",
       "    </tr>\n",
       "    <tr>\n",
       "      <td>male</td>\n",
       "      <td>128526442</td>\n",
       "      <td>34440</td>\n",
       "    </tr>\n",
       "    <tr>\n",
       "      <td rowspan=\"2\" valign=\"top\">Denmark</td>\n",
       "      <td>female</td>\n",
       "      <td>56784123</td>\n",
       "      <td>4329</td>\n",
       "    </tr>\n",
       "    <tr>\n",
       "      <td>male</td>\n",
       "      <td>55398096</td>\n",
       "      <td>10968</td>\n",
       "    </tr>\n",
       "  </tbody>\n",
       "</table>\n",
       "<p>24 rows × 2 columns</p>\n",
       "</div>"
      ],
      "text/plain": [
       "                       population  suicides_no\n",
       "country        sex                            \n",
       "Argentina      female   529728151        18326\n",
       "               male     506257280        63893\n",
       "Australia      female   273093551        15326\n",
       "               male     269284235        54785\n",
       "Austria        female   126313508        13195\n",
       "...                           ...          ...\n",
       "Cuba           male     126068428        29743\n",
       "Czech Republic female   135580098         9247\n",
       "               male     128526442        34440\n",
       "Denmark        female    56784123         4329\n",
       "               male      55398096        10968\n",
       "\n",
       "[24 rows x 2 columns]"
      ]
     },
     "execution_count": 187,
     "metadata": {},
     "output_type": "execute_result"
    }
   ],
   "source": [
    "pivot_suicide=data_suicide.pivot_table(index=['country','sex'],values=['suicides_no','population'], aggfunc={'suicides_no':sum,'population':sum})\n",
    "\n",
    "pivot_suicide"
   ]
  },
  {
   "cell_type": "code",
   "execution_count": 192,
   "metadata": {},
   "outputs": [
    {
     "data": {
      "text/plain": [
       "<matplotlib.axes._subplots.AxesSubplot at 0x184a9947048>"
      ]
     },
     "execution_count": 192,
     "metadata": {},
     "output_type": "execute_result"
    },
    {
     "data": {
      "image/png": "[encoded data removed]",
      "text/plain": [
       "<Figure size 432x288 with 1 Axes>"
      ]
     },
     "metadata": {
      "needs_background": "light"
     },
     "output_type": "display_data"
    }
   ],
   "source": [
    "Countries_pivot = df.pivot_table(index=\"generation\",values=\"suicides_no\")\n",
    "Countries_pivot.plot.bar()"
   ]
  },
  {
   "cell_type": "code",
   "execution_count": null,
   "metadata": {},
   "outputs": [],
   "source": []
  },
  {
   "cell_type": "code",
   "execution_count": null,
   "metadata": {},
   "outputs": [],
   "source": []
  },
  {
   "cell_type": "code",
   "execution_count": null,
   "metadata": {},
   "outputs": [],
   "source": []
  }
 ],
 "metadata": {
  "kernelspec": {
   "display_name": "Python 3",
   "language": "python",
   "name": "python3"
  },
  "language_info": {
   "codemirror_mode": {
    "name": "ipython",
    "version": 3
   },
   "file_extension": ".py",
   "mimetype": "text/x-python",
   "name": "python",
   "nbconvert_exporter": "python",
   "pygments_lexer": "ipython3",
   "version": "3.7.4"
  }
 },
 "nbformat": 4,
 "nbformat_minor": 2
}
